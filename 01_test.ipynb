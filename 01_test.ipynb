{
 "cells": [
  {
   "cell_type": "code",
   "execution_count": 3,
   "metadata": {},
   "outputs": [
    {
     "name": "stderr",
     "output_type": "stream",
     "text": [
      "97.59s - pydevd: Sending message related to process being replaced timed-out after 5 seconds\n"
     ]
    },
    {
     "name": "stdout",
     "output_type": "stream",
     "text": [
      "Requirement already satisfied: pandas in /home/codespace/.local/lib/python3.12/site-packages (2.2.3)\n",
      "Requirement already satisfied: openpyxl in /usr/local/python/3.12.1/lib/python3.12/site-packages (3.1.5)\n",
      "Requirement already satisfied: numpy>=1.26.0 in /home/codespace/.local/lib/python3.12/site-packages (from pandas) (2.1.1)\n",
      "Requirement already satisfied: python-dateutil>=2.8.2 in /home/codespace/.local/lib/python3.12/site-packages (from pandas) (2.9.0.post0)\n",
      "Requirement already satisfied: pytz>=2020.1 in /home/codespace/.local/lib/python3.12/site-packages (from pandas) (2024.2)\n",
      "Requirement already satisfied: tzdata>=2022.7 in /home/codespace/.local/lib/python3.12/site-packages (from pandas) (2024.2)\n",
      "Requirement already satisfied: et-xmlfile in /usr/local/python/3.12.1/lib/python3.12/site-packages (from openpyxl) (1.1.0)\n",
      "Requirement already satisfied: six>=1.5 in /home/codespace/.local/lib/python3.12/site-packages (from python-dateutil>=2.8.2->pandas) (1.16.0)\n"
     ]
    }
   ],
   "source": [
    "!pip install pandas openpyxl"
   ]
  },
  {
   "cell_type": "code",
   "execution_count": 9,
   "metadata": {},
   "outputs": [],
   "source": [
    "import pandas as pd\n",
    "import os\n",
    "\n",
    "path_filename = '/workspaces/realestatecrawler/서울시 아파트_2024-09-18.xlsx'\n",
    "\n",
    "# 서울시 아파트_2024-09-18.xlsx 파일을 읽어옵니다.\n",
    "excel_file = pd.ExcelFile(path_filename)\n",
    "\n",
    "# 첫 번째 시트를 데이터프레임으로 변환합니다.\n",
    "df = excel_file.parse(excel_file.sheet_names[0])\n",
    "\n",
    "# 두 번째 시트를 데이터프레임으로 변환합니다.\n",
    "df2 = excel_file.parse(excel_file.sheet_names[1])\n",
    "\n",
    "# 원본 데이터의 행 수를 저장합니다.\n",
    "original_rows = len(df1)\n",
    "\n",
    "# '거래종류' 열을 모두 '매매'로 변경합니다.\n",
    "df['거래종류'] = '매매'\n",
    "\n",
    "# '매매가/보증금(원)' 컬럼의 인덱스를 찾습니다.\n",
    "price_column_index = df.columns.get_loc('매매가/보증금(원)')\n",
    "\n",
    "# '매매가/보증금(원)' 컬럼 이후의 모든 컬럼에 대해 숫자 데이터를 float으로 변환합니다.\n",
    "for column in df.columns[price_column_index:]:\n",
    "    df[column] = pd.to_numeric(df[column].replace('(매물없음)', pd.NA), errors='coerce')\n",
    "\n",
    "# 숫자로 변환할 수 없는 값(NaN)이 있는 행을 제거합니다.\n",
    "df = df.dropna(subset=df.columns[price_column_index:])\n",
    "\n",
    "# 거래종류가 '매매'이고 전용면적이 84㎡ 이상인 데이터만 필터링합니다.\n",
    "df_filtered = df[(df['거래종류'] == '매매') & (df['전용면적'] >= 84)]\n",
    "\n",
    "# 필터링된 데이터를 전용면적 기준으로 내림차순 정렬합니다.\n",
    "df_sorted = df_filtered.sort_values('전용면적', ascending=False)\n",
    "\n",
    "# 정렬된 데이터에서 매매금액이 15억 이하인 아파트 매물리스트를 출력합니다.\n",
    "result = df_sorted[df_sorted['매매가/보증금(원)'] <= 1500000000].head()\n",
    "print(result)\n",
    "\n",
    "# 필터링 및 정렬 결과 통계를 출력합니다.\n",
    "print(f\"\\n총 데이터 수: {len(df)}\")\n",
    "print(f\"필터링된 데이터 수 (매매 & 전용면적 84㎡ 이상): {len(df_filtered)}\")\n",
    "print(f\"필터링된 데이터 중 15억 이하 매물 수: {len(df_sorted[df_sorted['매매가/보증금(원)'] <= 1500000000])}\")\n",
    "\n",
    "# 데이터 타입 확인\n",
    "print(\"\\n데이터 타입:\")\n",
    "print(df_sorted.dtypes)"
   ]
  },
  {
   "cell_type": "code",
   "execution_count": 8,
   "metadata": {},
   "outputs": [
    {
     "data": {
      "text/plain": [
       "['전용면적', '전용면적.1', '전용률']"
      ]
     },
     "execution_count": 8,
     "metadata": {},
     "output_type": "execute_result"
    }
   ],
   "source": [
    "[x for x in df1.columns.tolist() if '전용' in x]"
   ]
  }
 ],
 "metadata": {
  "kernelspec": {
   "display_name": "Python 3",
   "language": "python",
   "name": "python3"
  },
  "language_info": {
   "codemirror_mode": {
    "name": "ipython",
    "version": 3
   },
   "file_extension": ".py",
   "mimetype": "text/x-python",
   "name": "python",
   "nbconvert_exporter": "python",
   "pygments_lexer": "ipython3",
   "version": "3.12.1"
  }
 },
 "nbformat": 4,
 "nbformat_minor": 2
}
