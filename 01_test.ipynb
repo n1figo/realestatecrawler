{
 "cells": [
  {
   "cell_type": "code",
   "execution_count": 2,
   "metadata": {},
   "outputs": [
    {
     "name": "stdout",
     "output_type": "stream",
     "text": [
      "Requirement already satisfied: pandas in /home/codespace/.local/lib/python3.12/site-packages (2.2.3)\n",
      "Requirement already satisfied: openpyxl in /usr/local/python/3.12.1/lib/python3.12/site-packages (3.1.5)\n",
      "Requirement already satisfied: numpy>=1.26.0 in /home/codespace/.local/lib/python3.12/site-packages (from pandas) (2.1.1)\n",
      "Requirement already satisfied: python-dateutil>=2.8.2 in /home/codespace/.local/lib/python3.12/site-packages (from pandas) (2.9.0.post0)\n",
      "Requirement already satisfied: pytz>=2020.1 in /home/codespace/.local/lib/python3.12/site-packages (from pandas) (2024.2)\n",
      "Requirement already satisfied: tzdata>=2022.7 in /home/codespace/.local/lib/python3.12/site-packages (from pandas) (2024.2)\n",
      "Requirement already satisfied: et-xmlfile in /usr/local/python/3.12.1/lib/python3.12/site-packages (from openpyxl) (1.1.0)\n",
      "Requirement already satisfied: six>=1.5 in /home/codespace/.local/lib/python3.12/site-packages (from python-dateutil>=2.8.2->pandas) (1.16.0)\n"
     ]
    }
   ],
   "source": [
    "!pip install pandas openpyxl"
   ]
  },
  {
   "cell_type": "code",
   "execution_count": 4,
   "metadata": {},
   "outputs": [],
   "source": [
    "import pandas as pd\n",
    "import os\n",
    "\n",
    "path_filename = '/workspaces/realestatecrawler/서울시 아파트_2024-09-18.xlsx'\n",
    "\n",
    "# 서울시 아파트_2024-09-18.xlsx 파일을 읽어옵니다.\n",
    "excel_file = pd.ExcelFile(path_filename)\n",
    "\n",
    "# 첫 번째 시트를 데이터프레임으로 변환합니다.\n",
    "df = excel_file.parse(excel_file.sheet_names[0])\n",
    "\n",
    "# 두 번째 시트를 데이터프레임으로 변환합니다.\n",
    "df2 = excel_file.parse(excel_file.sheet_names[1])\n",
    "\n",
    "# 원본 데이터의 행 수를 저장합니다.\n",
    "original_rows = len(df)\n",
    "\n",
    "# '거래종류' 열을 모두 '매매'로 변경합니다.\n",
    "df['거래종류'] = '매매'\n",
    "\n",
    "# '매매가/보증금(원)' 컬럼의 인덱스를 찾습니다.\n",
    "price_column_index = df.columns.get_loc('매매가/보증금(원)')\n",
    "\n",
    "# '매매가/보증금(원)' 컬럼 이후의 모든 컬럼에 대해 숫자 데이터를 float으로 변환합니다.\n",
    "for column in df.columns[price_column_index:]:\n",
    "    df[column] = pd.to_numeric(df[column].replace('(매물없음)', pd.NA), errors='coerce')\n",
    "\n",
    "# 숫자로 변환할 수 없는 값(NaN)이 있는 행을 제거합니다.\n",
    "# df = df.dropna(subset=df.columns[price_column_index:])\n",
    "\n",
    "# 거래종류가 '매매'이고 전용면적이 84㎡ 이상인 데이터만 필터링합니다.\n",
    "df_filtered = df[(df['거래종류'] == '매매') & (df['전용면적'] >= 84)]\n",
    "\n",
    "# 필터링된 데이터를 전용면적 기준으로 내림차순 정렬합니다.\n",
    "df_sorted = df_filtered.sort_values('전용면적', ascending=False)\n",
    "\n"
   ]
  },
  {
   "cell_type": "code",
   "execution_count": 5,
   "metadata": {},
   "outputs": [
    {
     "name": "stdout",
     "output_type": "stream",
     "text": [
      "       Unnamed: 0          코드   시도  시군구  읍면동    단지명 매물종류    동 거래종류  \\\n",
      "26546       26547  135644 332  서울시  강남구  청담동  PH129  아파트  1동    매매   \n",
      "26502       26503  135644 332  서울시  강남구  청담동  PH129  아파트  1동    매매   \n",
      "26505       26506  135644 332  서울시  강남구  청담동  PH129  아파트  1동    매매   \n",
      "26530       26531  135644 332  서울시  강남구  청담동  PH129  아파트  1동    매매   \n",
      "26515       26516  135644 332  서울시  강남구  청담동  PH129  아파트  1동    매매   \n",
      "\n",
      "        매매가/보증금(원)  ...  계약면적(m2)  전용면적.1  전용률  방 개수  욕실 개수  해당면적세대수  현관구조  \\\n",
      "26546  300000000.0  ...    332.88  273.96  NaN   5.0    3.0      NaN   NaN   \n",
      "26502  300000000.0  ...    332.88  273.96  NaN   5.0    3.0      NaN   NaN   \n",
      "26505  300000000.0  ...    332.88  273.96  NaN   5.0    3.0      NaN   NaN   \n",
      "26530  300000000.0  ...    332.88  273.96  NaN   5.0    3.0      NaN   NaN   \n",
      "26515  300000000.0  ...    332.88  273.96  NaN   5.0    3.0      NaN   NaN   \n",
      "\n",
      "        매매수   전세수  월세수  \n",
      "26546  70.0  30.0  5.0  \n",
      "26502  70.0  30.0  5.0  \n",
      "26505  70.0  30.0  5.0  \n",
      "26530  70.0  30.0  5.0  \n",
      "26515  70.0  30.0  5.0  \n",
      "\n",
      "[5 rows x 37 columns]\n",
      "\n",
      "총 데이터 수: 107473\n",
      "필터링된 데이터 수 (매매 & 전용면적 84㎡ 이상): 62107\n",
      "필터링된 데이터 중 15억 이하 매물 수: 46667\n",
      "\n",
      "데이터 타입:\n",
      "Unnamed: 0      int64\n",
      "코드             object\n",
      "시도             object\n",
      "시군구            object\n",
      "읍면동            object\n",
      "단지명            object\n",
      "매물종류           object\n",
      "동              object\n",
      "거래종류           object\n",
      "매매가/보증금(원)    float64\n",
      "월세(원)         float64\n",
      "건물종류          float64\n",
      "면적            float64\n",
      "전용면적          float64\n",
      "층(매물)         float64\n",
      "층(전체          float64\n",
      "향             float64\n",
      "판매현황          float64\n",
      "판매현황일자        float64\n",
      "총세대수          float64\n",
      "동수            float64\n",
      "동수(비고)        float64\n",
      "준공일자          float64\n",
      "매매            float64\n",
      "전세            float64\n",
      "월세            float64\n",
      "면적.1          float64\n",
      "계약면적(m2)      float64\n",
      "전용면적.1        float64\n",
      "전용률           float64\n",
      "방 개수          float64\n",
      "욕실 개수         float64\n",
      "해당면적세대수       float64\n",
      "현관구조          float64\n",
      "매매수           float64\n",
      "전세수           float64\n",
      "월세수           float64\n",
      "dtype: object\n"
     ]
    }
   ],
   "source": [
    "# 정렬된 데이터에서 매매금액이 15억 이하인 아파트 매물리스트를 출력합니다.\n",
    "result = df_sorted[df_sorted['매매가/보증금(원)'] <= 2000000000].head()\n",
    "print(result)\n",
    "\n",
    "# 필터링 및 정렬 결과 통계를 출력합니다.\n",
    "print(f\"\\n총 데이터 수: {len(df)}\")\n",
    "print(f\"필터링된 데이터 수 (매매 & 전용면적 84㎡ 이상): {len(df_filtered)}\")\n",
    "print(f\"필터링된 데이터 중 15억 이하 매물 수: {len(df_sorted[df_sorted['매매가/보증금(원)'] <= 2000000000])}\")\n",
    "\n",
    "# 데이터 타입 확인\n",
    "print(\"\\n데이터 타입:\")\n",
    "print(df_sorted.dtypes)"
   ]
  },
  {
   "cell_type": "code",
   "execution_count": 6,
   "metadata": {},
   "outputs": [],
   "source": [
    "tmp = df_sorted[df_sorted['매매가/보증금(원)'] <= 2000000000]\n",
    "tmp.to_csv('/workspaces/realestatecrawler/filtered.csv', index=False, encoding='cp949')"
   ]
  },
  {
   "cell_type": "code",
   "execution_count": null,
   "metadata": {},
   "outputs": [],
   "source": []
  },
  {
   "cell_type": "code",
   "execution_count": 7,
   "metadata": {},
   "outputs": [
    {
     "data": {
      "text/html": [
       "<div>\n",
       "<style scoped>\n",
       "    .dataframe tbody tr th:only-of-type {\n",
       "        vertical-align: middle;\n",
       "    }\n",
       "\n",
       "    .dataframe tbody tr th {\n",
       "        vertical-align: top;\n",
       "    }\n",
       "\n",
       "    .dataframe thead th {\n",
       "        text-align: right;\n",
       "    }\n",
       "</style>\n",
       "<table border=\"1\" class=\"dataframe\">\n",
       "  <thead>\n",
       "    <tr style=\"text-align: right;\">\n",
       "      <th></th>\n",
       "      <th>계약면적(m2)</th>\n",
       "      <th>전용면적</th>\n",
       "    </tr>\n",
       "  </thead>\n",
       "  <tbody>\n",
       "    <tr>\n",
       "      <th>0</th>\n",
       "      <td>NaN</td>\n",
       "      <td>NaN</td>\n",
       "    </tr>\n",
       "    <tr>\n",
       "      <th>1</th>\n",
       "      <td>135.56</td>\n",
       "      <td>108.0</td>\n",
       "    </tr>\n",
       "    <tr>\n",
       "      <th>2</th>\n",
       "      <td>135.56</td>\n",
       "      <td>108.0</td>\n",
       "    </tr>\n",
       "    <tr>\n",
       "      <th>3</th>\n",
       "      <td>132.25</td>\n",
       "      <td>105.0</td>\n",
       "    </tr>\n",
       "    <tr>\n",
       "      <th>4</th>\n",
       "      <td>132.25</td>\n",
       "      <td>105.0</td>\n",
       "    </tr>\n",
       "  </tbody>\n",
       "</table>\n",
       "</div>"
      ],
      "text/plain": [
       "   계약면적(m2)   전용면적\n",
       "0       NaN    NaN\n",
       "1    135.56  108.0\n",
       "2    135.56  108.0\n",
       "3    132.25  105.0\n",
       "4    132.25  105.0"
      ]
     },
     "execution_count": 7,
     "metadata": {},
     "output_type": "execute_result"
    }
   ],
   "source": [
    "df[['계약면적(m2)','전용면적']].head()"
   ]
  },
  {
   "cell_type": "code",
   "execution_count": 13,
   "metadata": {},
   "outputs": [],
   "source": [
    "result.to_csv('tmp.csv', encoding='cp949', index=False)"
   ]
  },
  {
   "cell_type": "code",
   "execution_count": 8,
   "metadata": {},
   "outputs": [
    {
     "data": {
      "text/plain": [
       "['전용면적', '전용면적.1', '전용률']"
      ]
     },
     "execution_count": 8,
     "metadata": {},
     "output_type": "execute_result"
    }
   ],
   "source": [
    "[x for x in df.columns.tolist() if '전용' in x]"
   ]
  }
 ],
 "metadata": {
  "kernelspec": {
   "display_name": "Python 3",
   "language": "python",
   "name": "python3"
  },
  "language_info": {
   "codemirror_mode": {
    "name": "ipython",
    "version": 3
   },
   "file_extension": ".py",
   "mimetype": "text/x-python",
   "name": "python",
   "nbconvert_exporter": "python",
   "pygments_lexer": "ipython3",
   "version": "3.12.1"
  }
 },
 "nbformat": 4,
 "nbformat_minor": 2
}
